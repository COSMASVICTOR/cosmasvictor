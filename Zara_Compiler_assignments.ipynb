{
  "cells": [
    {
      "cell_type": "markdown",
      "metadata": {
        "id": "view-in-github",
        "colab_type": "text"
      },
      "source": [
        "<a href=\"https://colab.research.google.com/github/COSMASVICTOR/cosmasvictor/blob/main/Zara_Compiler_assignments.ipynb\" target=\"_parent\"><img src=\"https://colab.research.google.com/assets/colab-badge.svg\" alt=\"Open In Colab\"/></a>"
      ]
    },
    {
      "cell_type": "markdown",
      "metadata": {
        "id": "1YTIAbx9HfD8"
      },
      "source": [
        "# Zara Compiler - Week 1 & Week 2\n",
        "\n",
        "\n",
        "1. Mohamed Abubakar J17-1374-2022  \n",
        "2. Victor Cosmas    J17-1239-2022\n",
        "3. Franck Mutugi    J17-1370-2022\n",
        "\n",
        "This project involves building components of a compiler for the Zara programming language.\n",
        "- Week 1: Implementation of a Symbol Table\n",
        "- Week 2: Implementation of a Lexical Analyzer (Lexer)\n",
        "\n",
        "Programming Language: **Python 3**  \n",
        "Platform: **Google Colab**"
      ]
    },
    {
      "cell_type": "markdown",
      "metadata": {
        "id": "HOkINLDnHfD_"
      },
      "source": [
        "## Week 1: Symbol Table"
      ]
    },
    {
      "cell_type": "code",
      "execution_count": null,
      "metadata": {
        "id": "Rxedw8U_HfEA"
      },
      "outputs": [],
      "source": [
        "# Symbol Class\n",
        "class Symbol:\n",
        "    def __init__(self, name, type_, scope='global'):\n",
        "        self.name = name\n",
        "        self.type = type_\n",
        "        self.scope = scope\n",
        "\n",
        "    def __str__(self):\n",
        "        return f\"Name: {self.name}, Type: {self.type}, Scope: {self.scope}\"\n",
        "\n",
        "# Symbol Table Class\n",
        "class SymbolTable:\n",
        "    def __init__(self):\n",
        "        self.symbols = {}\n",
        "\n",
        "    def add_symbol(self, name, type_, scope='global'):\n",
        "        if name in self.symbols:\n",
        "            print(f\"Warning: '{name}' already declared. Updating type to {type_}\")\n",
        "        self.symbols[name] = Symbol(name, type_, scope)\n",
        "\n",
        "    def get_symbol(self, name):\n",
        "        return self.symbols.get(name, None)\n",
        "\n",
        "    def update_symbol(self, name, new_type):\n",
        "        if name in self.symbols:\n",
        "            self.symbols[name].type = new_type\n",
        "        else:\n",
        "            print(f\"Error: '{name}' not found in Symbol Table.\")\n",
        "\n",
        "    def display(self):\n",
        "        print(\"=== Symbol Table Entries ===\")\n",
        "        for symbol in self.symbols.values():\n",
        "            print(symbol)"
      ]
    },
    {
      "cell_type": "code",
      "execution_count": null,
      "metadata": {
        "id": "xRDgwggiHfEB",
        "colab": {
          "base_uri": "https://localhost:8080/"
        },
        "outputId": "b6514cda-5f1a-44d3-8bd4-3947cabf2057"
      },
      "outputs": [
        {
          "output_type": "stream",
          "name": "stdout",
          "text": [
            "=== Symbol Table Entries ===\n",
            "Name: x, Type: integer, Scope: global\n",
            "Name: y, Type: float, Scope: global\n",
            "Name: name, Type: string, Scope: global\n",
            "Name: arr, Type: array, Scope: global\n",
            "Name: stk, Type: stack, Scope: global\n",
            "Name: computeSum, Type: method, Scope: global\n",
            "\n",
            "=== After Updating 'x' to float ===\n",
            "=== Symbol Table Entries ===\n",
            "Name: x, Type: float, Scope: global\n",
            "Name: y, Type: float, Scope: global\n",
            "Name: name, Type: string, Scope: global\n",
            "Name: arr, Type: array, Scope: global\n",
            "Name: stk, Type: stack, Scope: global\n",
            "Name: computeSum, Type: method, Scope: global\n"
          ]
        }
      ],
      "source": [
        "# Create a Symbol Table instance\n",
        "sym_table = SymbolTable()\n",
        "\n",
        "# Add Zara program variables and methods\n",
        "sym_table.add_symbol('x', 'integer')\n",
        "sym_table.add_symbol('y', 'float')\n",
        "sym_table.add_symbol('name', 'string')\n",
        "sym_table.add_symbol('arr', 'array')\n",
        "sym_table.add_symbol('stk', 'stack')\n",
        "sym_table.add_symbol('computeSum', 'method')\n",
        "\n",
        "# Display all symbols\n",
        "sym_table.display()\n",
        "\n",
        "# Update a symbol (Example)\n",
        "sym_table.update_symbol('x', 'float')\n",
        "\n",
        "# Display after update\n",
        "print(\"\\n=== After Updating 'x' to float ===\")\n",
        "sym_table.display()"
      ]
    },
    {
      "cell_type": "markdown",
      "metadata": {
        "id": "ZCpvNAK7HfEC"
      },
      "source": [
        "## Week 2: Lexical Analyzer"
      ]
    },
    {
      "cell_type": "code",
      "execution_count": null,
      "metadata": {
        "id": "Swil6AHyHfED"
      },
      "outputs": [],
      "source": [
        "import re\n",
        "\n",
        "# Token specifications\n",
        "token_specification = [\n",
        "    ('KEYWORD', r'\\b(if|else|do|while|for|method|class|return)\\b'),\n",
        "    ('DATATYPE', r'\\b(integer|float|string|array|stack)\\b'),\n",
        "    ('OPERATOR', r'==|=|\\+|\\*|/|-|>'),\n",
        "    ('NUMBER', r'\\b\\d+(\\.\\d+)?\\b'),\n",
        "    ('IDENTIFIER', r'\\b[a-zA-Z_][a-zA-Z0-9_]*\\b'),\n",
        "    ('LPAREN', r'\\('),\n",
        "    ('RPAREN', r'\\)'),\n",
        "    ('LBRACE', r'\\{'),\n",
        "    ('RBRACE', r'\\}'),\n",
        "    ('SEMICOLON', r';'),\n",
        "    ('COMMA', r','),\n",
        "    ('NEWLINE', r'\\n'),\n",
        "    ('SKIP', r'[ \\t]+'),\n",
        "    ('MISMATCH', r'.'),  # Any other character\n",
        "]\n",
        "\n",
        "# Master regex\n",
        "tok_regex = '|'.join(f'(?P<{name}>{regex})' for name, regex in token_specification)\n",
        "\n",
        "# Lexer function\n",
        "def lexer(code):\n",
        "    tokens = []\n",
        "    for mo in re.finditer(tok_regex, code):\n",
        "        kind = mo.lastgroup\n",
        "        value = mo.group()\n",
        "        if kind in ['NEWLINE', 'SKIP']:\n",
        "            continue\n",
        "        elif kind == 'MISMATCH':\n",
        "            raise RuntimeError(f'Unexpected character: {value}')\n",
        "        else:\n",
        "            tokens.append((kind, value))\n",
        "    return tokens"
      ]
    },
    {
      "cell_type": "code",
      "execution_count": null,
      "metadata": {
        "id": "dU7morMGHfED",
        "colab": {
          "base_uri": "https://localhost:8080/"
        },
        "outputId": "5d896c92-e1b4-47ef-80cd-ed78a3578a0d"
      },
      "outputs": [
        {
          "output_type": "stream",
          "name": "stdout",
          "text": [
            "=== Tokens from Zara Code ===\n",
            "('DATATYPE', 'integer')\n",
            "('IDENTIFIER', 'x')\n",
            "('SEMICOLON', ';')\n",
            "('DATATYPE', 'float')\n",
            "('IDENTIFIER', 'y')\n",
            "('SEMICOLON', ';')\n",
            "('DATATYPE', 'string')\n",
            "('IDENTIFIER', 'name')\n",
            "('SEMICOLON', ';')\n",
            "('KEYWORD', 'if')\n",
            "('LPAREN', '(')\n",
            "('IDENTIFIER', 'x')\n",
            "('OPERATOR', '>')\n",
            "('NUMBER', '0')\n",
            "('RPAREN', ')')\n",
            "('LBRACE', '{')\n",
            "('IDENTIFIER', 'x')\n",
            "('OPERATOR', '=')\n",
            "('IDENTIFIER', 'x')\n",
            "('OPERATOR', '-')\n",
            "('NUMBER', '1')\n",
            "('SEMICOLON', ';')\n",
            "('RBRACE', '}')\n",
            "('KEYWORD', 'method')\n",
            "('IDENTIFIER', 'add')\n",
            "('LPAREN', '(')\n",
            "('DATATYPE', 'integer')\n",
            "('IDENTIFIER', 'a')\n",
            "('COMMA', ',')\n",
            "('DATATYPE', 'integer')\n",
            "('IDENTIFIER', 'b')\n",
            "('RPAREN', ')')\n",
            "('LBRACE', '{')\n",
            "('KEYWORD', 'return')\n",
            "('IDENTIFIER', 'a')\n",
            "('OPERATOR', '+')\n",
            "('IDENTIFIER', 'b')\n",
            "('SEMICOLON', ';')\n",
            "('RBRACE', '}')\n"
          ]
        }
      ],
      "source": [
        "# Sample Zara Program\n",
        "zara_code = '''\n",
        "integer x;\n",
        "float y;\n",
        "string name;\n",
        "if (x > 0) {\n",
        "    x = x - 1;\n",
        "}\n",
        "method add(integer a, integer b) {\n",
        "    return a + b;\n",
        "}\n",
        "'''\n",
        "\n",
        "# Run the Lexer\n",
        "token_list = lexer(zara_code)\n",
        "\n",
        "# Display tokens\n",
        "print(\"=== Tokens from Zara Code ===\")\n",
        "for token in token_list:\n",
        "    print(token)"
      ]
    },
    {
      "cell_type": "markdown",
      "metadata": {
        "id": "fS1IYxsZHfEE"
      },
      "source": []
    }
  ],
  "metadata": {
    "colab": {
      "provenance": [],
      "include_colab_link": true
    },
    "kernelspec": {
      "display_name": "Python 3",
      "language": "python",
      "name": "python3"
    },
    "language_info": {
      "name": "python"
    }
  },
  "nbformat": 4,
  "nbformat_minor": 0
}